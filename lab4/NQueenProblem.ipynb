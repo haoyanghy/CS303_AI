{
 "cells": [
  {
   "cell_type": "code",
   "execution_count": 1,
   "metadata": {
    "collapsed": false,
    "jupyter": {
     "outputs_hidden": false
    }
   },
   "outputs": [],
   "source": [
    "import numpy as np\n",
    "\n",
    "rng = np.random.default_rng(2020)"
   ]
  },
  {
   "cell_type": "markdown",
   "metadata": {
    "collapsed": false,
    "jupyter": {
     "outputs_hidden": false
    }
   },
   "source": [
    "# Solve the n-Queen problem with Simulated Annealing.\n",
    "#### What will be tested:\n",
    "* That you understand every line of your code, not just copy from somewhere\n",
    "* That your program compiles correctly\n",
    "* Correctness of the program logic\n",
    "* That the result is obtained in a reasonable time\n",
    "#### What you need to do:\n",
    "* Complete the `value` function\n",
    "* Implement two search operators in `swap` and `permutation`\n",
    "* Implement the replacement in `simulated_annealing`"
   ]
  },
  {
   "cell_type": "code",
   "execution_count": 2,
   "metadata": {},
   "outputs": [],
   "source": [
    "class NQueenProblem:\n",
    "    def __init__(self, grid, n, method) -> None:\n",
    "        # grid is a 1D array, each element represents the position of a queen\n",
    "        # In init state of the n-queen problem, if n = 8, grid = [0, 1, 2, 3, 4, 5, 6, 7]\n",
    "        # represents the following state:\n",
    "        # 1 0 0 0 0 0 0 0\n",
    "        # 0 1 0 0 0 0 0 0\n",
    "        # 0 0 1 0 0 0 0 0\n",
    "        # 0 0 0 1 0 0 0 0\n",
    "        # 0 0 0 0 1 0 0 0\n",
    "        # 0 0 0 0 0 1 0 0\n",
    "        # 0 0 0 0 0 0 1 0\n",
    "        # 0 0 0 0 0 0 0 1\n",
    "        # all queens in the initial state have conflicts with each other\n",
    "        self.grid = grid\n",
    "        self.n = n\n",
    "        self.method = method\n",
    "\n",
    "    def value(self):\n",
    "        # TODO: evaluate the current state, return a scalar value\n",
    "        # the evaluation function calculates the number of attacking pairs of queens on the board\n",
    "        # return the number of conflicts\n",
    "        diagConflicts = 0\n",
    "        for i in range(self.n):\n",
    "            for j in range(i + 1, self.n):\n",
    "                if abs(i - j) == abs(self.grid[i] - self.grid[j]):\n",
    "                    diagConflicts += 1\n",
    "\n",
    "        colCount = {}\n",
    "        colConflicts = 0\n",
    "        for col in self.grid: # bucket\n",
    "            if col in colCount:\n",
    "                colCount[col] += 1\n",
    "            else:\n",
    "                colCount[col] = 1\n",
    "    \n",
    "        for count in colCount.values():\n",
    "            if count > 1:\n",
    "                colConflicts += (count - 1)\n",
    "\n",
    "        return diagConflicts + colConflicts\n",
    "\n",
    "    def local_search(self):\n",
    "        # generate a new grid\n",
    "        new_grid = self.method(self.grid, self.n)\n",
    "        return NQueenProblem(new_grid, self.n, self.method)\n",
    "\n",
    "    def print_grid(self):\n",
    "        matrix = np.zeros((self.n, self.n))\n",
    "        for i in range(self.n):\n",
    "            matrix[self.grid[i], i] = 1\n",
    "        for i in range(self.n):\n",
    "            for j in range(self.n):\n",
    "                print(int(matrix[i, j]), end=' ')\n",
    "            print()\n"
   ]
  },
  {
   "cell_type": "markdown",
   "metadata": {
    "collapsed": false,
    "jupyter": {
     "outputs_hidden": false
    }
   },
   "source": [
    "#### Check the correctness of the value function:"
   ]
  },
  {
   "cell_type": "code",
   "execution_count": 3,
   "metadata": {
    "collapsed": false,
    "jupyter": {
     "outputs_hidden": false
    }
   },
   "outputs": [
    {
     "name": "stdout",
     "output_type": "stream",
     "text": [
      "0 0 0 0 0 0 0 1 \n",
      "0 0 0 1 0 0 0 0 \n",
      "0 0 0 0 0 0 1 0 \n",
      "0 0 0 0 0 1 0 0 \n",
      "0 1 0 0 0 0 0 0 \n",
      "0 0 0 0 1 0 0 0 \n",
      "0 0 1 0 0 0 0 0 \n",
      "1 0 0 0 0 0 0 0 \n"
     ]
    },
    {
     "data": {
      "text/plain": [
       "5"
      ]
     },
     "execution_count": 3,
     "metadata": {},
     "output_type": "execute_result"
    }
   ],
   "source": [
    "grid = np.array([7,4,6,1,5,3,2,0])\n",
    "problem = NQueenProblem(grid, 8, None)\n",
    "problem.print_grid()\n",
    "problem.value() # 5"
   ]
  },
  {
   "cell_type": "code",
   "execution_count": 4,
   "metadata": {
    "collapsed": false,
    "jupyter": {
     "outputs_hidden": false
    }
   },
   "outputs": [],
   "source": [
    "def simulated_annealing(initial:NQueenProblem, schedule, halt, log_interval=200):\n",
    "    state = initial\n",
    "    t = 0           # count\n",
    "    T = schedule(t) # schedule: function that determines the temp based on t\n",
    "    f = [state.value()] # a recording of values aka conflicts counts\n",
    "    while not halt(T):\n",
    "        T = schedule(t)\n",
    "        new_state = state.local_search()\n",
    "        new_value = new_state.value()\n",
    "\n",
    "        # TODO: implement the replacement here\n",
    "        delta_value = new_value - state.value() # choose new state if better (LESS conflicts)\n",
    "        if delta_value < 0 or rng.uniform(0, 1) < np.exp(-delta_value / T): # OR accept with certain prob (to escape local minima)\n",
    "            state = new_state\n",
    "            f.append(new_value)\n",
    "        \n",
    "        # update time and temperature\n",
    "        if t % log_interval == 0:\n",
    "            print(f\"step {t}: T={T}, current_value={state.value()}\")\n",
    "        if new_value == 0: # no more conflicts (goal state)\n",
    "            break\n",
    "        t += 1\n",
    "        T = schedule(t)\n",
    "    print(f\"step {t}: T={T}, current_value={state.value()}\")\n",
    "    return state, f"
   ]
  },
  {
   "cell_type": "code",
   "execution_count": 5,
   "metadata": {
    "collapsed": false,
    "jupyter": {
     "outputs_hidden": false
    }
   },
   "outputs": [],
   "source": [
    "# Operator 1  \n",
    "def swap(grid, n):\n",
    "    new_grid = grid.copy() \n",
    "    i, j = np.random.choice(n, size=2, replace=False)  # pick 2 indices\n",
    "    new_grid[i], new_grid[j] = new_grid[j], new_grid[i] \n",
    "    return new_grid  \n",
    "\n",
    "# Operator 2 \n",
    "def permutation(grid, n):\n",
    "    new_grid = grid.copy()  \n",
    "    np.random.shuffle(new_grid) \n",
    "    return new_grid \n"
   ]
  },
  {
   "cell_type": "code",
   "execution_count": 6,
   "metadata": {
    "collapsed": false,
    "jupyter": {
     "outputs_hidden": false
    }
   },
   "outputs": [
    {
     "name": "stdout",
     "output_type": "stream",
     "text": [
      "step 0: T=1.0, current_value=46\n",
      "step 100: T=0.9047921471137089, current_value=2\n",
      "step 200: T=0.8186488294786356, current_value=2\n",
      "step 300: T=0.7407070321560992, current_value=5\n",
      "step 400: T=0.6701859060067401, current_value=1\n",
      "step 500: T=0.6063789448611847, current_value=2\n",
      "step 506: T=0.6027497547577036, current_value=0\n",
      "0 0 0 0 0 0 1 0 0 0 0 0 \n",
      "0 0 0 0 0 0 0 0 0 0 1 0 \n",
      "0 0 0 0 0 0 0 1 0 0 0 0 \n",
      "0 0 0 0 0 1 0 0 0 0 0 0 \n",
      "0 0 0 1 0 0 0 0 0 0 0 0 \n",
      "1 0 0 0 0 0 0 0 0 0 0 0 \n",
      "0 0 0 0 0 0 0 0 0 1 0 0 \n",
      "0 0 0 0 0 0 0 0 0 0 0 1 \n",
      "0 0 0 0 0 0 0 0 1 0 0 0 \n",
      "0 1 0 0 0 0 0 0 0 0 0 0 \n",
      "0 0 0 0 1 0 0 0 0 0 0 0 \n",
      "0 0 1 0 0 0 0 0 0 0 0 0 \n"
     ]
    },
    {
     "data": {
      "text/plain": [
       "(array([ 5,  9, 11,  4, 10,  3,  0,  2,  8,  6,  1,  7]), 0)"
      ]
     },
     "execution_count": 6,
     "metadata": {},
     "output_type": "execute_result"
    }
   ],
   "source": [
    "#Run the simulated annealing algorithm for the N-Queens problem using Operator 1:swap and observe the results\n",
    "rng = np.random.default_rng(200)\n",
    "solution, record = simulated_annealing(\n",
    "    initial=NQueenProblem(np.arange(12), 12, swap),\n",
    "    schedule=lambda t: 0.999**t, # temp decrese rate\n",
    "    halt=lambda T: T<1e-7, # anneal stops when T<1e-7\n",
    "    log_interval=100\n",
    ")\n",
    "solution.print_grid()\n",
    "solution.grid, solution.value()\n",
    "#293, 259, 741, 758, 241"
   ]
  },
  {
   "cell_type": "code",
   "execution_count": 7,
   "metadata": {
    "collapsed": false,
    "jupyter": {
     "outputs_hidden": false
    }
   },
   "outputs": [
    {
     "data": {
      "image/png": "[encoded data removed]",
      "text/plain": [
       "<Figure size 640x480 with 1 Axes>"
      ]
     },
     "metadata": {},
     "output_type": "display_data"
    }
   ],
   "source": [
    "import matplotlib.pyplot as plt\n",
    "\n",
    "plt.plot(record)\n",
    "plt.xlabel('step')\n",
    "plt.ylabel('value')\n",
    "plt.show()"
   ]
  },
  {
   "cell_type": "code",
   "execution_count": 8,
   "metadata": {},
   "outputs": [
    {
     "name": "stdout",
     "output_type": "stream",
     "text": [
      "step 0: T=1.0, current_value=7\n",
      "step 200: T=0.8186488294786356, current_value=2\n",
      "step 400: T=0.6701859060067401, current_value=2\n",
      "step 600: T=0.5486469074854967, current_value=2\n",
      "step 800: T=0.4491491486100751, current_value=4\n",
      "step 1000: T=0.36769542477096373, current_value=3\n",
      "step 1200: T=0.3010134290933991, current_value=2\n",
      "step 1400: T=0.2464242913846615, current_value=3\n",
      "step 1600: T=0.20173495769715533, current_value=2\n",
      "step 1800: T=0.16515008698369826, current_value=2\n",
      "step 2000: T=0.13519992539749945, current_value=2\n",
      "step 2200: T=0.11068126067226176, current_value=2\n",
      "step 2400: T=0.09060908449456684, current_value=2\n",
      "step 2600: T=0.07417702096160793, current_value=2\n",
      "step 2800: T=0.060724931384432544, current_value=1\n",
      "step 3000: T=0.04971239399803616, current_value=1\n",
      "step 3200: T=0.04069699315707305, current_value=1\n",
      "step 3400: T=0.033316545811337896, current_value=1\n",
      "step 3600: T=0.027274551230723105, current_value=1\n",
      "step 3800: T=0.02232827943958655, current_value=1\n",
      "step 4000: T=0.018279019827489414, current_value=1\n",
      "step 4200: T=0.01496409818579098, current_value=1\n",
      "step 4400: T=0.01225034146400116, current_value=1\n",
      "step 4600: T=0.010028727700218143, current_value=1\n",
      "step 4800: T=0.008210006192943552, current_value=1\n",
      "step 5000: T=0.006721111959865588, current_value=1\n",
      "step 5200: T=0.005502230438738822, current_value=1\n",
      "step 5400: T=0.004504394508195256, current_value=1\n",
      "step 5600: T=0.0036875172916440405, current_value=1\n",
      "step 5800: T=0.003018781714486622, current_value=1\n",
      "step 6000: T=0.0024713221170159817, current_value=1\n",
      "step 6200: T=0.002023144958359797, current_value=1\n",
      "step 6400: T=0.0016562452520268508, current_value=1\n",
      "step 6600: T=0.001355883236901329, current_value=1\n",
      "step 6800: T=0.0011099922247989767, current_value=1\n",
      "step 7000: T=0.0009086938355620688, current_value=1\n",
      "step 7200: T=0.0007439011448373393, current_value=1\n",
      "step 7400: T=0.0006089938014689048, current_value=1\n",
      "step 7600: T=0.0004985520627322635, current_value=1\n",
      "step 7800: T=0.00040813906258992675, current_value=1\n",
      "step 8000: T=0.00033412256585375113, current_value=1\n",
      "step 8200: T=0.0002735290474385717, current_value=1\n",
      "step 8400: T=0.00022392423451399288, current_value=1\n",
      "step 8600: T=0.00018331531247677975, current_value=1\n",
      "step 8800: T=0.00015007086598462605, current_value=1\n",
      "step 9000: T=0.00012285533877715932, current_value=1\n",
      "step 9200: T=0.0001005753792851227, current_value=1\n",
      "step 9400: T=8.233591652613551e-05, current_value=1\n",
      "step 9600: T=6.740420168817147e-05, current_value=1\n",
      "step 9800: T=5.5180370813963455e-05, current_value=1\n",
      "step 10000: T=4.517334597704824e-05, current_value=1\n",
      "step 10200: T=3.6981106807743975e-05, current_value=1\n",
      "step 10400: T=3.0274539800984007e-05, current_value=1\n",
      "step 10600: T=2.4784216571079923e-05, current_value=1\n",
      "step 10800: T=2.028956988545958e-05, current_value=1\n",
      "step 11000: T=1.661003263735646e-05, current_value=1\n",
      "step 11200: T=1.3597783776173799e-05, current_value=1\n",
      "step 11400: T=1.1131809771868262e-05, current_value=1\n",
      "step 11600: T=9.11304303971879e-06, current_value=1\n",
      "step 11800: T=7.460382017454214e-06, current_value=1\n",
      "step 12000: T=6.107433006052354e-06, current_value=1\n",
      "step 12200: T=4.999842881523944e-06, current_value=1\n",
      "step 12400: T=4.093115522536665e-06, current_value=1\n",
      "step 12600: T=3.3508242314454746e-06, current_value=1\n",
      "step 12800: T=2.7431483348614865e-06, current_value=1\n",
      "step 13000: T=2.2456751734206243e-06, current_value=1\n",
      "step 13200: T=1.838419352110026e-06, current_value=1\n",
      "step 13400: T=1.5050198506957442e-06, current_value=1\n",
      "step 13600: T=1.232082739114182e-06, current_value=1\n",
      "step 13800: T=1.008643092196656e-06, current_value=1\n",
      "step 14000: T=8.25724486788504e-07, current_value=1\n",
      "step 14200: T=6.759783845812558e-07, current_value=1\n",
      "step 14400: T=5.533889132903041e-07, current_value=1\n",
      "step 14600: T=4.530311861115616e-07, current_value=1\n",
      "step 14676: T=4.1986067971118377e-07, current_value=0\n",
      "0 0 0 0 0 0 1 0 0 0 0 0 \n",
      "1 0 0 0 0 0 0 0 0 0 0 0 \n",
      "0 0 0 0 0 1 0 0 0 0 0 0 \n",
      "0 0 0 0 0 0 0 0 1 0 0 0 \n",
      "0 1 0 0 0 0 0 0 0 0 0 0 \n",
      "0 0 0 1 0 0 0 0 0 0 0 0 \n",
      "0 0 0 0 0 0 0 0 0 0 1 0 \n",
      "0 0 0 0 0 0 0 1 0 0 0 0 \n",
      "0 0 0 0 0 0 0 0 0 1 0 0 \n",
      "0 0 0 0 0 0 0 0 0 0 0 1 \n",
      "0 0 1 0 0 0 0 0 0 0 0 0 \n",
      "0 0 0 0 1 0 0 0 0 0 0 0 \n"
     ]
    },
    {
     "data": {
      "text/plain": [
       "(array([ 1,  4, 10,  5, 11,  2,  0,  7,  3,  8,  6,  9]), 0)"
      ]
     },
     "execution_count": 8,
     "metadata": {},
     "output_type": "execute_result"
    }
   ],
   "source": [
    "#Run the simulated annealing algorithm for the N-Queens problem using Operator 1:swap and observe the results\n",
    "#Compare the effects of the two Operators and attempt to explain the differences.\n",
    "solution, record = simulated_annealing(\n",
    "    initial=NQueenProblem(np.arange(12), 12, permutation),\n",
    "    schedule=lambda t: 0.999**t,\n",
    "    halt=lambda T: T<1e-7,\n",
    "    log_interval=200\n",
    ")\n",
    "solution.print_grid()\n",
    "solution.grid, solution.value()\n",
    "\n",
    "# 2591, 16032, failed, failed"
   ]
  },
  {
   "cell_type": "code",
   "execution_count": 9,
   "metadata": {
    "collapsed": false,
    "jupyter": {
     "outputs_hidden": false
    }
   },
   "outputs": [
    {
     "data": {
      "image/png": "[encoded data removed]",
      "text/plain": [
       "<Figure size 640x480 with 1 Axes>"
      ]
     },
     "metadata": {},
     "output_type": "display_data"
    },
    {
     "ename": "",
     "evalue": "",
     "output_type": "error",
     "traceback": [
      "\u001b[1;31mThe Kernel crashed while executing code in the current cell or a previous cell. \n",
      "\u001b[1;31mPlease review the code in the cell(s) to identify a possible cause of the failure. \n",
      "\u001b[1;31mClick <a href='https://aka.ms/vscodeJupyterKernelCrash'>here</a> for more info. \n",
      "\u001b[1;31mView Jupyter <a href='command:jupyter.viewOutput'>log</a> for further details."
     ]
    }
   ],
   "source": [
    "plt.plot(record)\n",
    "plt.xlabel('step')\n",
    "plt.ylabel('value')\n",
    "plt.show()"
   ]
  }
 ],
 "metadata": {
  "kernelspec": {
   "display_name": "py310",
   "language": "python",
   "name": "python3"
  },
  "language_info": {
   "codemirror_mode": {
    "name": "ipython",
    "version": 3
   },
   "file_extension": ".py",
   "mimetype": "text/x-python",
   "name": "python",
   "nbconvert_exporter": "python",
   "pygments_lexer": "ipython3",
   "version": "3.10.14"
  }
 },
 "nbformat": 4,
 "nbformat_minor": 4
}
