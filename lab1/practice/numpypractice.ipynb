{
 "cells": [
  {
   "cell_type": "markdown",
   "id": "64da1d8e",
   "metadata": {},
   "source": [
    "## Numpy Practice (0.5 point)\n",
    "\n",
    "1. Create a 10*10 ndarray object, and the matrix boundary value is 1, and the rest are 0.\n"
   ]
  },
  {
   "cell_type": "code",
   "execution_count": 2,
   "id": "035382e3",
   "metadata": {},
   "outputs": [
    {
     "data": {
      "text/plain": [
       "array([[1., 1., 1., 1., 1., 1., 1., 1., 1., 1.],\n",
       "       [1., 0., 0., 0., 0., 0., 0., 0., 0., 1.],\n",
       "       [1., 0., 0., 0., 0., 0., 0., 0., 0., 1.],\n",
       "       [1., 0., 0., 0., 0., 0., 0., 0., 0., 1.],\n",
       "       [1., 0., 0., 0., 0., 0., 0., 0., 0., 1.],\n",
       "       [1., 0., 0., 0., 0., 0., 0., 0., 0., 1.],\n",
       "       [1., 0., 0., 0., 0., 0., 0., 0., 0., 1.],\n",
       "       [1., 0., 0., 0., 0., 0., 0., 0., 0., 1.],\n",
       "       [1., 0., 0., 0., 0., 0., 0., 0., 0., 1.],\n",
       "       [1., 1., 1., 1., 1., 1., 1., 1., 1., 1.]])"
      ]
     },
     "execution_count": 2,
     "metadata": {},
     "output_type": "execute_result"
    }
   ],
   "source": [
    "#1\n",
    "import numpy as np\n",
    "x = np.zeros((10,10))\n",
    "x[0,:] = 1\n",
    "x[-1,:] = 1\n",
    "x[:,0] = 1\n",
    "x[:,-1] = 1\n",
    "x\n",
    "# For column : numpy_Array_name[  : ,column] \n",
    "# For row : numpy_Array_name[ row, :  ]"
   ]
  },
  {
   "cell_type": "markdown",
   "id": "8d3b3c80",
   "metadata": {},
   "source": [
    "2. Create a 5*5 matrix with each row being 0 to 4"
   ]
  },
  {
   "cell_type": "code",
   "execution_count": 3,
   "id": "6c26347e",
   "metadata": {},
   "outputs": [
    {
     "data": {
      "text/plain": [
       "array([[0, 1, 2, 3, 4],\n",
       "       [0, 1, 2, 3, 4],\n",
       "       [0, 1, 2, 3, 4],\n",
       "       [0, 1, 2, 3, 4],\n",
       "       [0, 1, 2, 3, 4]])"
      ]
     },
     "execution_count": 3,
     "metadata": {},
     "output_type": "execute_result"
    }
   ],
   "source": [
    "#2\n",
    "x = np.arange(5)\n",
    "x = np.tile(x, (5, 1))\n",
    "x"
   ]
  },
  {
   "cell_type": "markdown",
   "id": "8b226308",
   "metadata": {},
   "source": [
    "3. Create an 8*8 matrix and fill it with a checkerboard pattern, like [[0,1],[1,0]])"
   ]
  },
  {
   "cell_type": "code",
   "execution_count": 4,
   "id": "e83e8494",
   "metadata": {},
   "outputs": [
    {
     "data": {
      "text/plain": [
       "array([[0., 1., 0., 1., 0., 1., 0., 1.],\n",
       "       [1., 0., 1., 0., 1., 0., 1., 0.],\n",
       "       [0., 1., 0., 1., 0., 1., 0., 1.],\n",
       "       [1., 0., 1., 0., 1., 0., 1., 0.],\n",
       "       [0., 1., 0., 1., 0., 1., 0., 1.],\n",
       "       [1., 0., 1., 0., 1., 0., 1., 0.],\n",
       "       [0., 1., 0., 1., 0., 1., 0., 1.],\n",
       "       [1., 0., 1., 0., 1., 0., 1., 0.]])"
      ]
     },
     "execution_count": 4,
     "metadata": {},
     "output_type": "execute_result"
    }
   ],
   "source": [
    "#3\n",
    "x = np.zeros((8,8))\n",
    "x[1::2, ::2] = 1  # start from second row\n",
    "x[::2, 1::2] = 1  # start from second column\n",
    "x\n"
   ]
  },
  {
   "cell_type": "markdown",
   "id": "04663245",
   "metadata": {},
   "source": [
    "4. output all the odd numbers in the array  \n",
    "   Example:  \n",
    "   in:    arr = np.array([0, 1, 2, 3, 4, 5, 6, 7, 8, 9])  \n",
    "   out:   array([1, 3, 5, 7, 9])  "
   ]
  },
  {
   "cell_type": "code",
   "execution_count": 5,
   "id": "7964df33",
   "metadata": {},
   "outputs": [
    {
     "data": {
      "text/plain": [
       "array([1, 3, 5, 7, 9])"
      ]
     },
     "execution_count": 5,
     "metadata": {},
     "output_type": "execute_result"
    }
   ],
   "source": [
    "#4\n",
    "x = np.array([1,2,3,4,5,6,7,8,9])\n",
    "x[x%2==1]\n"
   ]
  },
  {
   "cell_type": "markdown",
   "id": "fc506104",
   "metadata": {},
   "source": [
    "5. Normalize a 5x5 random matrix that follows the Gaussian distribution N(4,3).(Z-Score Normalization零均值归一化)"
   ]
  },
  {
   "cell_type": "code",
   "execution_count": 6,
   "id": "972284fd",
   "metadata": {},
   "outputs": [
    {
     "data": {
      "text/plain": [
       "array([[ 1.70261154, -1.61502976,  0.1998233 , -0.12069183,  1.56991089],\n",
       "       [-1.59558555, -0.39582276, -0.02662991, -0.52946717, -0.97171232],\n",
       "       [ 0.9686414 , -0.41407141, -2.12248185, -0.78902717,  1.21253841],\n",
       "       [ 0.17101574, -0.72846383, -1.00698536, -0.7803231 ,  0.7246867 ],\n",
       "       [ 0.50874825,  1.42177055, -0.68038916,  0.20426915,  1.47129893]])"
      ]
     },
     "execution_count": 6,
     "metadata": {},
     "output_type": "execute_result"
    }
   ],
   "source": [
    "#5\n",
    "mean, std = 4,3 \n",
    "x = np.random.normal(mean , std, (5,5))\n",
    "\n",
    "normalized_x = (x - mean ) / std # z\n",
    "normalized_x"
   ]
  },
  {
   "cell_type": "markdown",
   "id": "df87456c",
   "metadata": {},
   "source": [
    "6. Consider a random positive 10x2 matrix representing cartesian coordinates, convert them to polar coordinates."
   ]
  },
  {
   "cell_type": "code",
   "execution_count": 7,
   "id": "125feb23",
   "metadata": {},
   "outputs": [
    {
     "name": "stdout",
     "output_type": "stream",
     "text": [
      "[0.47752705 0.10022984 0.68380055 0.13154449 0.36610663 0.61277252\n",
      " 0.29949173 0.58819488 0.8233063  0.07221328] [0.58321503 0.89518942 0.30781532 0.53486193 0.02434206 0.2930291\n",
      " 0.18443924 0.33061826 0.73971348 0.03769505]\n",
      "[0.75377175 0.90078306 0.74988897 0.55080055 0.36691498 0.67923208\n",
      " 0.35172877 0.67474562 1.10680138 0.08145965]\n",
      "[0.8847063  1.45929576 0.4229817  1.32964151 0.06639128 0.44605771\n",
      " 0.55198584 0.51207769 0.73196746 0.48108921]\n"
     ]
    }
   ],
   "source": [
    "#6\n",
    "randomMat = np.random.rand(10, 2)\n",
    "\n",
    "X = randomMat[:, 0]\n",
    "Y = randomMat[:, 1]\n",
    "\n",
    "R = np.sqrt(X**2 + Y**2) \n",
    "T = np.arctan2(Y, X)       \n",
    "\n",
    "print(X, Y)\n",
    "print(R)\n",
    "print(T)"
   ]
  },
  {
   "cell_type": "markdown",
   "id": "c1cedf1f",
   "metadata": {},
   "source": [
    "7. Consider the vector [1, 2, 3, 4, 5], how to build a new vector with 3 consecutive zeros interleaved between each value?"
   ]
  },
  {
   "cell_type": "code",
   "execution_count": 8,
   "id": "c8a88dfd",
   "metadata": {},
   "outputs": [
    {
     "data": {
      "text/plain": [
       "array([1., 0., 0., 0., 2., 0., 0., 0., 3., 0., 0., 0., 4., 0., 0., 0., 5.])"
      ]
     },
     "execution_count": 8,
     "metadata": {},
     "output_type": "execute_result"
    }
   ],
   "source": [
    "#7 \n",
    "# x = np.zeros(17)\n",
    "# count = 0\n",
    "# for i in range(5): \n",
    "#     x[count] = i+1\n",
    "#     count+=4\n",
    "# x\n",
    "\n",
    "arr = np.array([1, 2, 3, 4, 5])\n",
    "x = np.zeros(17)\n",
    "x[::4] = arr\n",
    "x"
   ]
  },
  {
   "cell_type": "markdown",
   "id": "c7ea103c",
   "metadata": {},
   "source": [
    "8. What are the result of the following expressions?\n",
    "\n",
    "0 * np.nan\n",
    "\n",
    "np.nan == np.nan\n",
    "\n",
    "np.inf > np.nan\n",
    "\n",
    "np.nan - np.nan\n",
    "\n",
    "np.nan in set([np.nan])\n",
    "\n",
    "0.3 == 3 * 0.1 \n",
    "\n",
    "(hint1:nan means not a number \n",
    "\n",
    "hint2:0.1(10) == 0.0001100110011001100110011001100110011001100110011...(2)\n",
    "\n",
    "First guess a result, then print the result, and finally find why"
   ]
  },
  {
   "cell_type": "code",
   "execution_count": 9,
   "id": "ee65170c",
   "metadata": {},
   "outputs": [
    {
     "name": "stdout",
     "output_type": "stream",
     "text": [
      "0.30000000000000004\n"
     ]
    }
   ],
   "source": [
    "#8\n",
    "0 * np.nan\n",
    "# nan\n",
    "\n",
    "np.nan == np.nan\n",
    "# False\n",
    "\n",
    "np.inf > np.nan\n",
    "# False\n",
    "\n",
    "np.nan - np.nan\n",
    "# nan\n",
    "\n",
    "np.nan in set([np.nan])\n",
    "# True\n",
    "\n",
    "0.3 == 3 * 0.1 \n",
    "# False\n",
    "\n",
    "print(3 * 0.1)"
   ]
  },
  {
   "cell_type": "markdown",
   "id": "7218ef9e",
   "metadata": {},
   "source": [
    "9. What are the result of the following expressions? (Hint: the type of pn.nan is float)\n",
    "\n",
    "np.array(0) / np.array(0)\n",
    "\n",
    "np.array(0) // np.array(0)\n",
    "\n",
    "np.array([np.nan]).astype(int).astype(float)\n",
    "\n",
    "\n",
    "First guess a result, then print the result, and finally find why "
   ]
  },
  {
   "cell_type": "code",
   "execution_count": 10,
   "id": "cc0b2732",
   "metadata": {},
   "outputs": [
    {
     "name": "stderr",
     "output_type": "stream",
     "text": [
      "C:\\Users\\aaron\\AppData\\Local\\Temp\\ipykernel_35280\\581054890.py:2: RuntimeWarning: invalid value encountered in divide\n",
      "  np.array(0) / np.array(0)\n",
      "C:\\Users\\aaron\\AppData\\Local\\Temp\\ipykernel_35280\\581054890.py:5: RuntimeWarning: divide by zero encountered in floor_divide\n",
      "  np.array(0) // np.array(0)\n",
      "C:\\Users\\aaron\\AppData\\Local\\Temp\\ipykernel_35280\\581054890.py:8: RuntimeWarning: invalid value encountered in cast\n",
      "  np.array([np.nan]).astype(int).astype(float)\n"
     ]
    },
    {
     "data": {
      "text/plain": [
       "array([-2.14748365e+09])"
      ]
     },
     "execution_count": 10,
     "metadata": {},
     "output_type": "execute_result"
    }
   ],
   "source": [
    "#9\n",
    "np.array(0) / np.array(0)\n",
    "# nan\n",
    "\n",
    "np.array(0) // np.array(0)\n",
    "# 0\n",
    "\n",
    "np.array([np.nan]).astype(int).astype(float)\n",
    "# array([-9.22337204e+18])\n",
    "# The process of converting np.nan to an integer first yields an unexpected value due to the fact that NaN cannot be represented as an integer. \n",
    "# When you cast NaN to int, it typically results in the minimum integer value, such as -9223372036854775808 (on a 64-bit system). \n",
    "# After converting this back to float, you get -9.22337204e+18 in scientific notation."
   ]
  },
  {
   "cell_type": "code",
   "execution_count": 13,
   "id": "20dcdf3c",
   "metadata": {},
   "outputs": [
    {
     "name": "stdout",
     "output_type": "stream",
     "text": [
      "[[134  28  21   4   5   2]\n",
      " [ 13  27   2   0   0   0]\n",
      " [  7   1  21   0   0   0]\n",
      " [ 11   0   0  16   0   1]\n",
      " [  2   0   0   0  11   2]\n",
      " [  5   0   0   0   0   8]]\n"
     ]
    }
   ],
   "source": [
    "x = np.array(([134, 28, 21, 4, 5,2], [13, 27,2,0,0,0],[7,1,21,0,0,0],\n",
    "             [11,0,0,16,0,1],[2,0,0,0,11,2],[5,0,0,0,0,8]))\n",
    "print(x)"
   ]
  }
 ],
 "metadata": {
  "kernelspec": {
   "display_name": "Python 3",
   "language": "python",
   "name": "python3"
  },
  "language_info": {
   "codemirror_mode": {
    "name": "ipython",
    "version": 3
   },
   "file_extension": ".py",
   "mimetype": "text/x-python",
   "name": "python",
   "nbconvert_exporter": "python",
   "pygments_lexer": "ipython3",
   "version": "3.10.14"
  }
 },
 "nbformat": 4,
 "nbformat_minor": 5
}
