{
 "cells": [
  {
   "cell_type": "markdown",
   "id": "64da1d8e",
   "metadata": {},
   "source": [
    "## Numpy Practice (0.5 point)\n",
    "\n",
    "1. Create a 10*10 ndarray object, and the matrix boundary value is 1, and the rest are 0.\n"
   ]
  },
  {
   "cell_type": "code",
   "execution_count": 189,
   "id": "035382e3",
   "metadata": {},
   "outputs": [
    {
     "data": {
      "text/plain": [
       "array([[1., 1., 1., 1., 1., 1., 1., 1., 1., 1.],\n",
       "       [1., 0., 0., 0., 0., 0., 0., 0., 0., 1.],\n",
       "       [1., 0., 0., 0., 0., 0., 0., 0., 0., 1.],\n",
       "       [1., 0., 0., 0., 0., 0., 0., 0., 0., 1.],\n",
       "       [1., 0., 0., 0., 0., 0., 0., 0., 0., 1.],\n",
       "       [1., 0., 0., 0., 0., 0., 0., 0., 0., 1.],\n",
       "       [1., 0., 0., 0., 0., 0., 0., 0., 0., 1.],\n",
       "       [1., 0., 0., 0., 0., 0., 0., 0., 0., 1.],\n",
       "       [1., 0., 0., 0., 0., 0., 0., 0., 0., 1.],\n",
       "       [1., 1., 1., 1., 1., 1., 1., 1., 1., 1.]])"
      ]
     },
     "execution_count": 189,
     "metadata": {},
     "output_type": "execute_result"
    }
   ],
   "source": [
    "#1\n"
   ]
  },
  {
   "cell_type": "markdown",
   "id": "8d3b3c80",
   "metadata": {},
   "source": [
    "2. Create a 5*5 matrix with each row being 0 to 4"
   ]
  },
  {
   "cell_type": "code",
   "execution_count": 191,
   "id": "6c26347e",
   "metadata": {},
   "outputs": [
    {
     "data": {
      "text/plain": [
       "array([[0, 1, 2, 3, 4],\n",
       "       [0, 1, 2, 3, 4],\n",
       "       [0, 1, 2, 3, 4],\n",
       "       [0, 1, 2, 3, 4],\n",
       "       [0, 1, 2, 3, 4]])"
      ]
     },
     "execution_count": 191,
     "metadata": {},
     "output_type": "execute_result"
    }
   ],
   "source": [
    "#2\n"
   ]
  },
  {
   "cell_type": "markdown",
   "id": "8b226308",
   "metadata": {},
   "source": [
    "3. Create an 8*8 matrix and fill it with a checkerboard pattern, like [[0,1],[1,0]])"
   ]
  },
  {
   "cell_type": "code",
   "execution_count": 192,
   "id": "e83e8494",
   "metadata": {},
   "outputs": [
    {
     "data": {
      "text/plain": [
       "array([[0., 1., 0., 1., 0., 1., 0., 1.],\n",
       "       [1., 0., 1., 0., 1., 0., 1., 0.],\n",
       "       [0., 1., 0., 1., 0., 1., 0., 1.],\n",
       "       [1., 0., 1., 0., 1., 0., 1., 0.],\n",
       "       [0., 1., 0., 1., 0., 1., 0., 1.],\n",
       "       [1., 0., 1., 0., 1., 0., 1., 0.],\n",
       "       [0., 1., 0., 1., 0., 1., 0., 1.],\n",
       "       [1., 0., 1., 0., 1., 0., 1., 0.]])"
      ]
     },
     "execution_count": 192,
     "metadata": {},
     "output_type": "execute_result"
    }
   ],
   "source": [
    "#3"
   ]
  },
  {
   "cell_type": "markdown",
   "id": "04663245",
   "metadata": {},
   "source": [
    "4. output all the odd numbers in the array  \n",
    "   Example:  \n",
    "   in:    arr = np.array([0, 1, 2, 3, 4, 5, 6, 7, 8, 9])  \n",
    "   out:   array([1, 3, 5, 7, 9])  "
   ]
  },
  {
   "cell_type": "code",
   "execution_count": 194,
   "id": "7964df33",
   "metadata": {},
   "outputs": [
    {
     "data": {
      "text/plain": [
       "array([1, 3, 5, 7, 9])"
      ]
     },
     "execution_count": 194,
     "metadata": {},
     "output_type": "execute_result"
    }
   ],
   "source": [
    "#4\n"
   ]
  },
  {
   "cell_type": "markdown",
   "id": "fc506104",
   "metadata": {},
   "source": [
    "5. Normalize a 5x5 random matrix that follows the Gaussian distribution N(4,3).(Z-Score Normalization零均值归一化)"
   ]
  },
  {
   "cell_type": "code",
   "execution_count": 198,
   "id": "972284fd",
   "metadata": {},
   "outputs": [
    {
     "name": "stdout",
     "output_type": "stream",
     "text": [
      "[[-0.76060476  1.45741226 -0.96486484 -0.84826602 -1.21804888]\n",
      " [ 0.36747116 -1.08004767 -1.22346791 -1.01411226 -0.41888139]\n",
      " [ 1.4782859   1.34987068  0.98684235  1.46564194  0.32400027]\n",
      " [-0.33602902  0.85185218  1.55492996  0.45458547 -1.58486965]\n",
      " [ 0.45108574  0.4270716  -1.03934746 -0.69666549  0.01615582]]\n"
     ]
    }
   ],
   "source": [
    "#5\n"
   ]
  },
  {
   "cell_type": "markdown",
   "id": "df87456c",
   "metadata": {},
   "source": [
    "6. Consider a random positive 10x2 matrix representing cartesian coordinates, convert them to polar coordinates."
   ]
  },
  {
   "cell_type": "code",
   "execution_count": 200,
   "id": "125feb23",
   "metadata": {},
   "outputs": [
    {
     "name": "stdout",
     "output_type": "stream",
     "text": [
      "X, Y:\n",
      " [0.48660129 0.64067014 0.93301119 0.55328471 0.2628861  0.18080466\n",
      " 0.28289352 0.99464788 0.42403243 0.49718628] [0.46385448 0.97130751 0.4472571  0.78994386 0.56000864 0.77150557\n",
      " 0.6863419  0.88128735 0.5663552  0.31280192]\n",
      "R:\n",
      " [0.67226616 1.16357059 1.03467328 0.9644352  0.61864269 0.79240846\n",
      " 0.74235702 1.32890624 0.70750386 0.5874004 ]\n",
      "T:\n",
      " [0.7614702  0.98770508 0.4470074  0.95979514 1.13190059 1.34059758\n",
      " 1.17983784 0.72504275 0.92812514 0.56157395]\n"
     ]
    }
   ],
   "source": [
    "#6\n"
   ]
  },
  {
   "cell_type": "markdown",
   "id": "c1cedf1f",
   "metadata": {},
   "source": [
    "7. Consider the vector [1, 2, 3, 4, 5], how to build a new vector with 3 consecutive zeros interleaved between each value?"
   ]
  },
  {
   "cell_type": "code",
   "execution_count": 202,
   "id": "c8a88dfd",
   "metadata": {},
   "outputs": [
    {
     "name": "stdout",
     "output_type": "stream",
     "text": [
      "[1 0 0 0 2 0 0 0 3 0 0 0 4 0 0 0 5]\n"
     ]
    }
   ],
   "source": [
    "#7\n"
   ]
  },
  {
   "cell_type": "markdown",
   "id": "c7ea103c",
   "metadata": {},
   "source": [
    "8. What are the result of the following expressions?\n",
    "\n",
    "0 * np.nan\n",
    "\n",
    "np.nan == np.nan\n",
    "\n",
    "np.inf > np.nan\n",
    "\n",
    "np.nan - np.nan\n",
    "\n",
    "np.nan in set([np.nan])\n",
    "\n",
    "0.3 == 3 * 0.1 \n",
    "\n",
    "(hint1:nan means not a number \n",
    "\n",
    "hint2:0.1(10) == 0.0001100110011001100110011001100110011001100110011...(2)\n",
    "\n",
    "First guess a result, then print the result, and finally find why"
   ]
  },
  {
   "cell_type": "code",
   "execution_count": 2,
   "id": "ee65170c",
   "metadata": {},
   "outputs": [],
   "source": [
    "#8\n"
   ]
  },
  {
   "cell_type": "markdown",
   "id": "7218ef9e",
   "metadata": {},
   "source": [
    "9. What are the result of the following expressions? (Hint: the type of pn.nan is float)\n",
    "\n",
    "np.array(0) / np.array(0)\n",
    "\n",
    "np.array(0) // np.array(0)\n",
    "\n",
    "np.array([np.nan]).astype(int).astype(float)\n",
    "\n",
    "\n",
    "First guess a result, then print the result, and finally find why "
   ]
  },
  {
   "cell_type": "code",
   "execution_count": 1,
   "id": "cc0b2732",
   "metadata": {},
   "outputs": [],
   "source": [
    "#9"
   ]
  }
 ],
 "metadata": {
  "kernelspec": {
   "display_name": "Python 3",
   "language": "python",
   "name": "python3"
  },
  "language_info": {
   "codemirror_mode": {
    "name": "ipython",
    "version": 3
   },
   "file_extension": ".py",
   "mimetype": "text/x-python",
   "name": "python",
   "nbconvert_exporter": "python",
   "pygments_lexer": "ipython3",
   "version": "3.8.8"
  }
 },
 "nbformat": 4,
 "nbformat_minor": 5
}
