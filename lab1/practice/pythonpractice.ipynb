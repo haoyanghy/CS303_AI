{
 "cells": [
  {
   "cell_type": "markdown",
   "metadata": {},
   "source": [
    "## Python Practice (0.5 points)\n",
    "### Snake: Simulate a snake game and print the game results.\n",
    "\n",
    "You are given a map that ‘x’ represents a rock, ‘-’represents a space, ‘#’represents the body of snake. ‘@’represent the head of the snake and a sequence of actions that ‘0,1,2,3’represent to move to up/down/left/right correspondingly for one step.\n",
    "A greedy snake starts in the map state and moves one step per unit of time according to the sequence of actions until all actions complete or fail. It will fail when the head and the stone overlap, the head goes beyond the boundary, or the head overlaps the body. \n",
    "\n",
    "#### Input\n",
    "A matrix with type char (the map). \n",
    "A sequence with type int (the motions). \n",
    "\n",
    "#### Output\n",
    "The result of the game:\n",
    "If it failed, output the running time of the game.\n",
    "If it didn’t fail, output the final position of the head (in the form “%d, %d”)."
   ]
  },
  {
   "cell_type": "code",
   "execution_count": 8,
   "metadata": {},
   "outputs": [
    {
     "data": {
      "text/plain": [
       "'\\nExample:\\ninput:\\nmap:\\n---------\\n------x--\\n-x-------\\n---@-----\\n---##----\\n------x--\\n--x----x-\\n-x-------\\n---------\\naction:\\n0 0 3 3 0 3 3 1 1 1 1 1 3 1 1 2 2 2 2 2\\n\\noutput:\\n7 3\\n'"
      ]
     },
     "execution_count": 8,
     "metadata": {},
     "output_type": "execute_result"
    }
   ],
   "source": [
    "\"\"\"\n",
    "Example:\n",
    "input:\n",
    "map:\n",
    "---------\n",
    "------x--\n",
    "-x-------\n",
    "---@-----\n",
    "---##----\n",
    "------x--\n",
    "--x----x-\n",
    "-x-------\n",
    "---------\n",
    "action:\n",
    "0 0 3 3 0 3 3 1 1 1 1 1 3 1 1 2 2 2 2 2\n",
    "\n",
    "output:\n",
    "7 3\n",
    "\"\"\""
   ]
  },
  {
   "cell_type": "code",
   "execution_count": 9,
   "metadata": {
    "pycharm": {
     "name": "#%%\n"
    }
   },
   "outputs": [
    {
     "name": "stdout",
     "output_type": "stream",
     "text": [
      "[7, 3]\n"
     ]
    }
   ],
   "source": [
    "def findBody(map):\n",
    "    bodyPos = list()\n",
    "    for i in range(len(map)):\n",
    "        for j in range(len(map[0])):\n",
    "            if  map[i][j] == '#':\n",
    "                bodyPos.append([i, j])\n",
    "    return bodyPos\n",
    "            \n",
    "def findHead(map):\n",
    "    for i in range(len(map)):\n",
    "        for j in range(len(map[0])):\n",
    "            if map[i][j] == '@':\n",
    "                return [i, j]\n",
    "\n",
    "\n",
    "def countNeighbour(pos, bodyPos):\n",
    "    neighbour = 0\n",
    "    directions = [(-1, 0), (1, 0), (0, -1), (0, 1)]  # up, down, left, right\n",
    "    for d in directions:\n",
    "        neighbourPos = [pos[0] + d[0], pos[1] + d[1]]\n",
    "        if neighbourPos in bodyPos:\n",
    "            neighbour += 1\n",
    "    return neighbour\n",
    "\n",
    "def findTail(bodyPos):\n",
    "    # tail only has one neighbour, except head\n",
    "    for part in bodyPos:\n",
    "        if countNeighbour(part, bodyPos) == 1:\n",
    "            return part\n",
    "    return None\n",
    "  \n",
    "\n",
    "def print_map(game_map, bodyPos, headPos):\n",
    "    map_copy = [row.copy() for row in game_map]\n",
    "\n",
    "    for i in range(len(map_copy)):\n",
    "        for j in range(len(map_copy[0])):\n",
    "            if map_copy[i][j] == '@' or map_copy[i][j] == '#':\n",
    "                map_copy[i][j] = '-'\n",
    "\n",
    "    for body_part in bodyPos[:-1]:\n",
    "        map_copy[body_part[0]][body_part[1]] = '#'\n",
    "\n",
    "    map_copy[headPos[0]][headPos[1]] = '@'\n",
    "\n",
    "    for row in map_copy:\n",
    "        print(''.join(row))\n",
    "    print()  \n",
    "\n",
    "map = [\n",
    "    list(\"---------\"),\n",
    "    list(\"------x--\"),\n",
    "    list(\"-x-------\"),\n",
    "    list(\"---@-----\"),\n",
    "    list(\"---##----\"),\n",
    "    list(\"------x--\"),\n",
    "    list(\"--x----x-\"),\n",
    "    list(\"-x-------\"),\n",
    "    list(\"---------\")\n",
    "]\n",
    "# map = [list(\"-------------\"),\n",
    "# list(\"------x------\"),\n",
    "# list(\"-x-----------\"),\n",
    "# list(\"---@------x--\"),\n",
    "# list(\"---###----x--\"),\n",
    "# list(\"-----#----x--\"),\n",
    "# list(\"--x--#-------\"),\n",
    "# list(\"---###-------\"),\n",
    "# list(\"--------xx---\"),\n",
    "# list(\"-------------\")]\n",
    "\n",
    "action = [0, 0, 3, 3, 0, 3, 3, 1, 1, 1, 1, 1, 3, 1, 1, 2, 2, 2, 2, 2] # 7,3\n",
    "# action = [0, 0, 2, 0, 3, 3, 3, 3, 3, 3, 3, 3, 0, 3, 3, 1, 1, 1, 1, 1, 3, 1, 1, 2, 2, 2, 2, 2] #failed, 10\n",
    "# action = [0, 2, 0, 2, 2, 1, 1, 1, 1, 1, 1, 3, 3, 3, 0, 0, 0] #failed, 11\n",
    "# action = [0, 3, 3, 3, 3, 1, 1, 1, 2, 2, 2, 1, 1, 3, 3, 3, 3, 3, 3, 1, 1, 2, 2, 2, 2, 0, 0, 0, 3, 3, 1, 2, 2, 2, 2, 0, 0, 0] #failed, 32\n",
    "\n",
    "headPos = findHead(map)\n",
    "bodyPos = findBody(map)\n",
    "bodyPos.append(headPos)\n",
    "time = 0\n",
    "failed = False\n",
    "\n",
    "dir = {\n",
    "    0: [-1, 0],\n",
    "    1: [1, 0],\n",
    "    2: [0, -1],\n",
    "    3: [0, 1],\n",
    "}\n",
    "\n",
    "# print(\"Initial map:\")\n",
    "# print_map(map, bodyPos, headPos)\n",
    "\n",
    "for i in range(len(action)):\n",
    "    newHeadPos = [headPos[0] + dir[action[i]][0], headPos[1] + dir[action[i]][1]]\n",
    "    # the head goes beyond the boundary\n",
    "    if newHeadPos[0] < 0 or newHeadPos[0] >= len(map) or newHeadPos[1] < 0 or newHeadPos[1] >= len(map[0]):\n",
    "        failed = True \n",
    "        break\n",
    "    # the head and the stone overlap\n",
    "    if map[newHeadPos[0]][newHeadPos[1]] == 'x':\n",
    "        failed = True\n",
    "        break\n",
    "    # the head overlaps the body\n",
    "    if [newHeadPos[0], newHeadPos[1]] in bodyPos:\n",
    "        failed = True\n",
    "        break\n",
    "\n",
    "    tail = findTail(bodyPos)\n",
    "    if tail:\n",
    "        bodyPos.remove(tail)\n",
    "\n",
    "    bodyPos.append(newHeadPos)\n",
    "    headPos = newHeadPos\n",
    "    time+=1\n",
    "    # print(f\"After action {i + 1}:\")\n",
    "    # print_map(map, bodyPos, headPos)\n",
    "\n",
    "if failed:\n",
    "    print(time)\n",
    "else : \n",
    "    print(headPos)\n",
    "    \n"
   ]
  },
  {
   "cell_type": "code",
   "execution_count": 10,
   "metadata": {
    "pycharm": {
     "name": "#%%\n"
    }
   },
   "outputs": [
    {
     "name": "stdout",
     "output_type": "stream",
     "text": [
      "1\n",
      "---------\n",
      "------x--\n",
      "-x-------\n",
      "---@-----\n",
      "---##----\n",
      "------x--\n",
      "--x----x-\n",
      "-x-------\n",
      "---------\n"
     ]
    },
    {
     "ename": "TypeError",
     "evalue": "'list' object is not callable",
     "output_type": "error",
     "traceback": [
      "\u001b[1;31m---------------------------------------------------------------------------\u001b[0m",
      "\u001b[1;31mTypeError\u001b[0m                                 Traceback (most recent call last)",
      "Cell \u001b[1;32mIn[10], line 11\u001b[0m\n\u001b[0;32m      8\u001b[0m         \u001b[38;5;66;03m# game_map.append(list(line.strip()))\u001b[39;00m\n\u001b[0;32m      9\u001b[0m \u001b[38;5;66;03m# print(game_map)\u001b[39;00m\n\u001b[0;32m     10\u001b[0m \u001b[38;5;28;01mwith\u001b[39;00m \u001b[38;5;28mopen\u001b[39m(\u001b[38;5;124mf\u001b[39m\u001b[38;5;124m'\u001b[39m\u001b[38;5;124m./pythonpractice_test_cases/\u001b[39m\u001b[38;5;132;01m{\u001b[39;00mtest_case\u001b[38;5;132;01m}\u001b[39;00m\u001b[38;5;124m-actions.txt\u001b[39m\u001b[38;5;124m'\u001b[39m, \u001b[38;5;124m'\u001b[39m\u001b[38;5;124mr\u001b[39m\u001b[38;5;124m'\u001b[39m) \u001b[38;5;28;01mas\u001b[39;00m f:\n\u001b[1;32m---> 11\u001b[0m     actions \u001b[38;5;241m=\u001b[39m [\u001b[38;5;241m*\u001b[39m\u001b[38;5;28;43mmap\u001b[39;49m\u001b[43m(\u001b[49m\u001b[38;5;28;43mint\u001b[39;49m\u001b[43m,\u001b[49m\u001b[43m \u001b[49m\u001b[43mf\u001b[49m\u001b[38;5;241;43m.\u001b[39;49m\u001b[43mread\u001b[49m\u001b[43m(\u001b[49m\u001b[43m)\u001b[49m\u001b[38;5;241;43m.\u001b[39;49m\u001b[43msplit\u001b[49m\u001b[43m(\u001b[49m\u001b[38;5;124;43m'\u001b[39;49m\u001b[38;5;124;43m \u001b[39;49m\u001b[38;5;124;43m'\u001b[39;49m\u001b[43m)\u001b[49m\u001b[43m)\u001b[49m]\n\u001b[0;32m     12\u001b[0m \u001b[38;5;28mprint\u001b[39m(actions)\n\u001b[0;32m     13\u001b[0m \u001b[38;5;28mprint\u001b[39m(\u001b[38;5;124m\"\u001b[39m\u001b[38;5;130;01m\\n\u001b[39;00m\u001b[38;5;124m\"\u001b[39m)\n",
      "\u001b[1;31mTypeError\u001b[0m: 'list' object is not callable"
     ]
    }
   ],
   "source": [
    "# # test block, you may need to modify this block.\n",
    "# for test_case in range(1, 5):\n",
    "#     with open(f'pythonpractice_test_cases/{test_case}-map.txt', 'r') as f:\n",
    "#         # game_map = []\n",
    "#         print(test_case)\n",
    "#         for line in f.readlines():\n",
    "#             print(line.strip()) \n",
    "#             # game_map.append(list(line.strip()))\n",
    "#     # print(game_map)\n",
    "#     with open(f'./pythonpractice_test_cases/{test_case}-actions.txt', 'r') as f:\n",
    "#         actions = [*map(int, f.read().split(' '))]\n",
    "#     print(actions)\n",
    "#     print(\"\\n\")"
   ]
  }
 ],
 "metadata": {
  "interpreter": {
   "hash": "6eea70d608ba4e65e3b5d32ac8522b4d78d39b471a2766e116e1911c1dde4fb7"
  },
  "kernelspec": {
   "display_name": "Python 3 (ipykernel)",
   "language": "python",
   "name": "python3"
  },
  "language_info": {
   "codemirror_mode": {
    "name": "ipython",
    "version": 3
   },
   "file_extension": ".py",
   "mimetype": "text/x-python",
   "name": "python",
   "nbconvert_exporter": "python",
   "pygments_lexer": "ipython3",
   "version": "3.10.14"
  }
 },
 "nbformat": 4,
 "nbformat_minor": 4
}
