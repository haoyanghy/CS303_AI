{
 "cells": [
  {
   "cell_type": "markdown",
   "id": "2704339a-cede-481f-9981-85b58648ec33",
   "metadata": {},
   "source": [
    "# **Implementing a Matrix Factorization-based Recommender System**"
   ]
  },
  {
   "cell_type": "markdown",
   "id": "70a5bca0-4c95-4c78-bff5-32a8c7d3ae8c",
   "metadata": {},
   "source": [
    "## **Represent user and item by Matrix Factorization**\n",
    " - Users and items are represented through matrix factorization.\n",
    "  - A user-item interaction matrix $( R \\in \\mathbb{R}^{n \\times m})$ is approximated as the product of two matrices: $( R \\approx P \\times Q)$, where $( P \\in \\mathbb{R}^{n \\times d})$ and $( Q \\in \\mathbb{R}^{m \\times d})$.\n",
    "  - $ n $ is the number of users, $ m $ is the number of items, and $ d $ is the dimension of the embedding vectors."
   ]
  },
  {
   "cell_type": "markdown",
   "id": "a90d7e68-600a-4ba7-bb48-d114dbe140a9",
   "metadata": {},
   "source": [
    "**How to do Matrix Factorization**:\n",
    "   - The goal is to find a good representation for users and items.\n",
    "   - The objective is to minimize the differences between the predicted and actual interaction values: $ \\min_{P,Q} \\sum_{(u,i) \\in R'} (r_{ui} - P_u Q_i)^2 $.\n",
    "   - Not all elements in $ R $ are known; $ R' $ is the set of known elements in $ R $.\n",
    "   - $ r_{ui} $ is the interaction record of user $ u $ and item $ i $.\n",
    "   - $ P_u $ is the embedding vector for user $ u $, and $ Q_i $ is the embedding vector for item $ i $.\n",
    "   - The interaction probability between user $ u $ and item $ i $ is $ r_{ui} = P_u Q_i $."
   ]
  },
  {
   "cell_type": "markdown",
   "id": "951aa1f6-e071-458f-9c09-787f68046790",
   "metadata": {},
   "source": [
    "## **Requirements:**\n",
    "In this practice, you will implement a recommender system using **Matrix Factorization**.\n",
    "You should:\n",
    "   - Construct a matrix factorization-based recommender system using the positive data `train_pos.npy` provided in project 3.\n",
    "   - For each user-item pair $ u, i $ in `train_pos.npy`, $ R_{ui} = 1 $.\n",
    "   - If a user-item pair $ u^*, i^* $ is not in `train_pos.npy`, $ R_{u^*i^*} = 0 $.\n",
    "   - The task is to find a good embedding representation for each user and item."
   ]
  },
  {
   "cell_type": "markdown",
   "id": "5c7db510-0871-4966-8f47-87c9eec9c3a3",
   "metadata": {},
   "source": [
    "\n",
    "## **Reference Workflow**:\n",
    "   1. Load the data and construct an interaction matrix.\n",
    "   2. Obtain the embedding representation for each user and item.\n",
    "      - **Use the objective function above and optimize the embeddings via gradient descent.**\n",
    "      - **Note: The number of negative samples is much larger than that of positive samples. You can sample some negative samples in each iteration instead of using all negative samples.**\n",
    "   3. Validate the effectiveness of the model."
   ]
  },
  {
   "cell_type": "markdown",
   "id": "b132b701-8062-4a2d-a692-92a4eb717b39",
   "metadata": {},
   "source": [
    "### **Deadline:** 22:00, Dec. 20th\n",
    "\n",
    "The practice will be checked in this lab class or the next lab class (before **Dec. 20th**) by teachers or SAs.\n",
    "\n",
    "### **Grading:**\n",
    "* Submissions in this lab class: 1.1 points.\n",
    "* Submissions on time: 1 point.\n",
    "* Late submissions within 2 weeks after the deadline: 0.8 points."
   ]
  },
  {
   "cell_type": "markdown",
   "id": "9c778e74-ac83-43b2-b32b-ce131fce6331",
   "metadata": {},
   "source": [
    "## **1 Load and Explore the Dataset**"
   ]
  },
  {
   "cell_type": "code",
   "execution_count": 86,
   "id": "50b00122-8884-41ac-9031-ef64d73791c1",
   "metadata": {},
   "outputs": [
    {
     "data": {
      "text/plain": [
       "(26638,\n",
       " array([[   0, 1113,    1],\n",
       "        [   0,  736,    1],\n",
       "        [   0,  888,    1],\n",
       "        [   0,  636,    1],\n",
       "        [   1,  374,    1]], dtype=int64),\n",
       " array([[6014,  934,    1],\n",
       "        [6014, 1960,    1],\n",
       "        [6014,  937,    1],\n",
       "        [6014, 1963,    1],\n",
       "        [6014, 1485,    1]], dtype=int64))"
      ]
     },
     "execution_count": 86,
     "metadata": {},
     "output_type": "execute_result"
    }
   ],
   "source": [
    "import numpy as np\n",
    "import random\n",
    "\n",
    "# Load the dataset\n",
    "train_pos = np.load(\"train_pos.npy\")  # Contains user-item pairs\n",
    "users, items = set(train_pos[:, 0]), set(train_pos[:, 1])\n",
    "len(train_pos),train_pos[:5],train_pos[-5:]"
   ]
  },
  {
   "cell_type": "code",
   "execution_count": 87,
   "id": "b62482f2-d273-4248-b8ff-3a1d8526774c",
   "metadata": {},
   "outputs": [
    {
     "data": {
      "text/plain": [
       "(6015, 2347)"
      ]
     },
     "execution_count": 87,
     "metadata": {},
     "output_type": "execute_result"
    }
   ],
   "source": [
    "n_user, n_item = max(users) + 1, max(items) + 1\n",
    "n_user, n_item"
   ]
  },
  {
   "cell_type": "markdown",
   "id": "1bbe0038-40f9-4100-aef0-1a7438e3d31d",
   "metadata": {},
   "source": [
    "## **2. Initialize Parameters**\n",
    "\n",
    "Initialize the embedding matrices $P$ for users and $Q$ for items. These matrices represent the user and item embeddings.\n",
    "\n",
    "**Fill in the missing parts:**\n"
   ]
  },
  {
   "cell_type": "code",
   "execution_count": 88,
   "id": "34d7dfc6-5f30-42f3-b1e8-cf64a9ae4e01",
   "metadata": {},
   "outputs": [],
   "source": [
    "# Define the embedding dimension\n",
    "dim = 60 # 60 ~ 100\n",
    "\n",
    "# Initialize user and item embeddings with random values\n",
    "P = np.random.rand(n_user, dim)  \n",
    "Q = np.random.rand(n_item, dim) "
   ]
  },
  {
   "cell_type": "markdown",
   "id": "498092a6-24e8-4f09-8f7c-93df437d9aaa",
   "metadata": {},
   "source": [
    "## **3. Optimize the embeddings via gradient descent**"
   ]
  },
  {
   "cell_type": "markdown",
   "id": "7390e1f4-ef1d-487c-9cb0-e038874d43d9",
   "metadata": {},
   "source": [
    "The loss function to optimize is Mean Squared Error (MSE):\n",
    "$$\n",
    "\\text{Loss} = \\sum_{(u, i) \\in R'} (r_{ui} - P_u Q_i^T)^2\n",
    "$$"
   ]
  },
  {
   "cell_type": "markdown",
   "id": "dca0822f-1a4b-4b41-9dd8-af844f2ac02d",
   "metadata": {},
   "source": [
    "OR add the regularization term:\n",
    "\n",
    "$$\n",
    "\\text{Loss} = \\sum_{(u, i) \\in R'} (r_{ui} - P_u Q_i^T)^2 + \\lambda (\\|P_u\\|^2 + \\|Q_i\\|^2)\n",
    "$$\n",
    "\n",
    "Here:\n",
    "- $ R' $ is the set of the known elements in the $ R $\n",
    "- $ r_{ui} $ is 1 for positive samples and 0 for negative samples.\n",
    "- $ \\lambda $ is the regularization term to prevent overfitting.\n"
   ]
  },
  {
   "cell_type": "code",
   "execution_count": 89,
   "id": "1ba630e8-51ec-42fb-a481-27bb4580ecc7",
   "metadata": {},
   "outputs": [
    {
     "name": "stdout",
     "output_type": "stream",
     "text": [
      "Epoch 10/40 completed.\n",
      "Epoch 20/40 completed.\n",
      "Epoch 30/40 completed.\n",
      "Epoch 40/40 completed.\n",
      "Training completed.\n"
     ]
    }
   ],
   "source": [
    "alpha = 0.01     \n",
    "lambda_reg = 0.1  \n",
    "iterations = 40      \n",
    "\n",
    "train_pos_set = set((u, i) for u, i in train_pos[:, :2])\n",
    "\n",
    "for iterate in range(iterations):\n",
    "    for u, i, _ in train_pos:\n",
    "        prediction = np.dot(P[u], Q[i].T)\n",
    "        error = 1 - prediction  # r_ui = 1\n",
    "        \n",
    "        P[u] += alpha * (error * Q[i] - lambda_reg * P[u])\n",
    "        Q[i] += alpha * (error * P[u] - lambda_reg * Q[i])\n",
    "    \n",
    "    if (iterate + 1) % 10 == 0:\n",
    "        print(f\"Epoch {iterate + 1}/{iterations} completed.\")\n",
    "\n",
    "print(\"Training completed.\")"
   ]
  },
  {
   "cell_type": "markdown",
   "id": "ce5a00c5-41e2-4c05-afbe-e03bee01a148",
   "metadata": {},
   "source": [
    "## **4 Verification**"
   ]
  },
  {
   "cell_type": "markdown",
   "id": "f0075303-6879-45a7-a74e-59aa5a9b0b60",
   "metadata": {},
   "source": [
    "Choose an appropriate metric to evaluate the results."
   ]
  },
  {
   "cell_type": "code",
   "execution_count": 90,
   "id": "a61bfa57-f97d-43fb-8173-c0950c806ba1",
   "metadata": {},
   "outputs": [
    {
     "name": "stdout",
     "output_type": "stream",
     "text": [
      "RMSE:  0.11236577838865587\n"
     ]
    }
   ],
   "source": [
    "def rmse(predictions, true_values):\n",
    "    return np.sqrt(np.mean((predictions - true_values) ** 2))\n",
    "\n",
    "predictions = []\n",
    "true_values = []\n",
    "for u, i,_ in train_pos:\n",
    "    pred = np.dot(P[u], Q[i].T)\n",
    "    predictions.append(pred)\n",
    "    true_values.append(1)  \n",
    "\n",
    "print(\"RMSE: \", rmse(np.array(predictions), np.array(true_values)))\n"
   ]
  }
 ],
 "metadata": {
  "kernelspec": {
   "display_name": "py310",
   "language": "python",
   "name": "python3"
  },
  "language_info": {
   "codemirror_mode": {
    "name": "ipython",
    "version": 3
   },
   "file_extension": ".py",
   "mimetype": "text/x-python",
   "name": "python",
   "nbconvert_exporter": "python",
   "pygments_lexer": "ipython3",
   "version": "3.10.14"
  }
 },
 "nbformat": 4,
 "nbformat_minor": 5
}
